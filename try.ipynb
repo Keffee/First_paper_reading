{
 "cells": [
  {
   "cell_type": "code",
   "execution_count": null,
   "metadata": {},
   "outputs": [],
   "source": [
    "s = '\\n1@@Based on the movie viewing history provided, the user\\'s preferences on movies can be analyzed as follows:\\n1. Genre: The user prefers a mix of genres, including drama, comedy, adventure, and family-friendly movies.\\n2. Era: The user\\'s movie viewing history spans multiple decades, indicating a preference for classic movies as well as more recent releases.\\n3. Themes: The user appears to enjoy movies with themes of self-discovery, friendship, and personal growth, as seen in movies like \"Rain Man,\" \"Big,\" and \"Girl, Interrupted.\"\\n4. Quality: The user has a strong preference for movies with high ratings, as evidenced by the presence of multiple 5-star movies in their viewing history.\\nBased on these observations, it can be inferred that the user has a diverse<\\s>\\n'\n",
    "# 去除s中所有的'<\\s>'\n",
    "s = s.replace('<\\s>', '')\n",
    "# 去除s中的“@@”及以前的所有字符\n",
    "s = s[s.find('@@')+2:]\n",
    "\n",
    "# 将以上对s的处理写成lambda函数，从而对list生效\n",
    "# 1. 去除s中所有的'<\\s>'\n",
    "# 2. 去除s中的“@@”及以前的所有字符\n",
    "remove = lambda x: x.replace('<\\s>', '')[x.find('@@')+2:]\n",
    "# 对list中的每个元素执行remove函数\n",
    "list(map(remove, list1))\n",
    "\n",
    "# 删除list的最后一个元素\n"
   ]
  },
  {
   "cell_type": "code",
   "execution_count": null,
   "metadata": {},
   "outputs": [],
   "source": [
    "import torch\n",
    "a = torch.zeros(2,3)\n",
    "# 删去a的第一行\n",
    "a = a[1:]"
   ]
  },
  {
   "cell_type": "code",
   "execution_count": 8,
   "metadata": {},
   "outputs": [
    {
     "name": "stdout",
     "output_type": "stream",
     "text": [
      "6\n"
     ]
    }
   ],
   "source": [
    "import numpy as np\n",
    "\n",
    "a = np.array([2,3,5,6,3,1])\n",
    "print(len(a))"
   ]
  },
  {
   "cell_type": "code",
   "execution_count": 7,
   "metadata": {},
   "outputs": [
    {
     "data": {
      "text/plain": [
       "[array([2], dtype=int64), array([1, 4], dtype=int64), array([], dtype=int64)]"
      ]
     },
     "execution_count": 7,
     "metadata": {},
     "output_type": "execute_result"
    }
   ],
   "source": [
    "import numpy as np\n",
    "\n",
    "a = np.array([2,3,5,6,3,1])\n",
    "c = np.arange(20)\n",
    "b = [5,3,9]\n",
    "\n",
    "# 不使用for循环或while循环，找到b中元素在a中首次出现的位置\n",
    "# 1. 将b中元素在a中首次出现的位置存储在c中\n",
    "[np.where(a==i)[0] for i in b]\n",
    "\n"
   ]
  },
  {
   "cell_type": "code",
   "execution_count": null,
   "metadata": {},
   "outputs": [],
   "source": [
    "# 帮我写一个SASREC的模型\n",
    "# 1. 读取数据\n",
    "# 2. 构建模型\n",
    "# 3. 训练模型\n",
    "\n",
    "# 1. 读取数据\n",
    "import pandas as pd\n",
    "import numpy as np\n",
    "from collections import Counter\n",
    "import random\n",
    "import torch\n",
    "import torch.nn as nn\n",
    "import torch.nn.functional as F\n",
    "import torch.optim as optim\n",
    "import math\n",
    "\n",
    "# 读取数据\n",
    "data = pd.read_csv('ratings.csv')\n",
    "# 选取用户数大于等于5的用户\n",
    "data = data.groupby('userId').filter(lambda x: len(x) >= 5)\n",
    "# 选取评分大于等于4的数据\n"
   ]
  },
  {
   "cell_type": "code",
   "execution_count": 1,
   "metadata": {},
   "outputs": [
    {
     "data": {
      "text/plain": [
       "array([[3, 5, 7],\n",
       "       [4, 6, 8]])"
      ]
     },
     "execution_count": 1,
     "metadata": {},
     "output_type": "execute_result"
    }
   ],
   "source": [
    "import numpy as np\n",
    "\n",
    "a = np.array([2,3,4,5,6,7,8,9,10,11,12,13,14,15])\n",
    "b = np.array([[1,3,5],[2,4,6]])\n",
    "a[b]"
   ]
  },
  {
   "cell_type": "code",
   "execution_count": 3,
   "metadata": {},
   "outputs": [
    {
     "name": "stdout",
     "output_type": "stream",
     "text": [
      "True\n",
      "<class 'bool'>\n"
     ]
    }
   ],
   "source": [
    "import torch\n",
    "a = torch.tensor([[1,2,3],[4,5,6]]).to('cuda:0')\n",
    "print(a.is_cuda)\n",
    "print(type(a.is_cuda))"
   ]
  },
  {
   "cell_type": "code",
   "execution_count": 43,
   "metadata": {},
   "outputs": [
    {
     "data": {
      "text/plain": [
       "(1, 2, 5)"
      ]
     },
     "execution_count": 43,
     "metadata": {},
     "output_type": "execute_result"
    }
   ],
   "source": [
    "import torch\n",
    "a = torch.tensor([[1,2,3],[4,5,6],[7,8,9],[10,11,12],[13,14,15],[16,17,18],[19,20,21]])\n",
    "b = np.array([[1,2,3,5,0],[2,2,1,0,2]])\n",
    "b.reshape(1, -1)\n",
    "shape = (-1,) + b.shape  \n",
    "shape\n",
    "c = np.arange(10)\n",
    "c.reshape(shape).shape\n",
    "# a[b].reshape(shape)"
   ]
  },
  {
   "cell_type": "code",
   "execution_count": 11,
   "metadata": {},
   "outputs": [
    {
     "data": {
      "text/plain": [
       "torch.Size([2, 3, 1])"
      ]
     },
     "execution_count": 11,
     "metadata": {},
     "output_type": "execute_result"
    }
   ],
   "source": [
    "b = torch.tensor([[1,2,3],[4,5,6]])\n",
    "(~b.unsqueeze(-1)).shape"
   ]
  },
  {
   "cell_type": "code",
   "execution_count": 47,
   "metadata": {},
   "outputs": [
    {
     "data": {
      "text/plain": [
       "'only_BERT'"
      ]
     },
     "execution_count": 47,
     "metadata": {},
     "output_type": "execute_result"
    }
   ],
   "source": [
    "a = 'SASRec_only_BERT_5'\n",
    "# 去除a中头尾的两个'_'左右的内容，只保留中间的字符\n",
    "a[a.find('_')+1:a.rfind('_')]"
   ]
  },
  {
   "cell_type": "code",
   "execution_count": null,
   "metadata": {},
   "outputs": [],
   "source": [
    "import matplotlib.pyplot as plt\n",
    "\n",
    "def draw_picture(x, y, title, save_path):\n",
    "    plt.plot(x, y)\n",
    "    plt.title(title)\n",
    "    plt.xlabel('X')\n",
    "    plt.ylabel('Y')\n",
    "    plt.grid(True)\n",
    "    plt.tight_layout()  # Ensures labels are not cut off\n",
    "    plt.savefig(save_path, dpi=300)  # Save the figure as an image file\n",
    "    plt.show()\n"
   ]
  },
  {
   "cell_type": "code",
   "execution_count": 1,
   "metadata": {},
   "outputs": [
    {
     "data": {
      "text/plain": [
       "True"
      ]
     },
     "execution_count": 1,
     "metadata": {},
     "output_type": "execute_result"
    }
   ],
   "source": [
    "s = 'dskfdjs1'\n",
    "# 判断s的最后一位是否为数字\n",
    "s[-1].isdigit()"
   ]
  },
  {
   "cell_type": "code",
   "execution_count": 14,
   "metadata": {},
   "outputs": [
    {
     "data": {
      "text/plain": [
       "torch.Size([128, 50, 160])"
      ]
     },
     "execution_count": 14,
     "metadata": {},
     "output_type": "execute_result"
    }
   ],
   "source": [
    "import torch\n",
    "a = torch.ones(100,20)\n",
    "b = torch.zeros(100,90,20)\n",
    "# 把a拼在b上，使b的shape变成[100,91,20]\n",
    "torch.cat([b, a.unsqueeze(1)], dim=1)\n",
    "c = torch.zeros(128,51, 160)\n",
    "# 将c的第二维的每一行第一列删去，使c的shape变为[128,50,160]\n",
    "c[:, 1:, :].shape\n",
    "# 创建一个全为False的shape为[128,1]的torch.BoolTensor\n",
    "# torch.BoolTensor(c.shape[0], 1)\n",
    "# # 在c的第二维的每一行之前拼接一个1\n",
    "# torch.cat([(torch.ones(128,1)), c], dim=1)\n",
    "# torch.BoolTensor(c==0)"
   ]
  },
  {
   "cell_type": "code",
   "execution_count": 17,
   "metadata": {},
   "outputs": [
    {
     "name": "stdout",
     "output_type": "stream",
     "text": [
      "1\n"
     ]
    }
   ],
   "source": [
    "s = input('111')\n",
    "print(len(s))"
   ]
  },
  {
   "cell_type": "code",
   "execution_count": null,
   "metadata": {},
   "outputs": [],
   "source": [
    "import json\n"
   ]
  }
 ],
 "metadata": {
  "kernelspec": {
   "display_name": "PyG",
   "language": "python",
   "name": "python3"
  },
  "language_info": {
   "codemirror_mode": {
    "name": "ipython",
    "version": 3
   },
   "file_extension": ".py",
   "mimetype": "text/x-python",
   "name": "python",
   "nbconvert_exporter": "python",
   "pygments_lexer": "ipython3",
   "version": "3.9.15"
  }
 },
 "nbformat": 4,
 "nbformat_minor": 2
}

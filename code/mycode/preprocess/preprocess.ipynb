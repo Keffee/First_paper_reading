{
 "cells": [
  {
   "cell_type": "code",
   "execution_count": 2,
   "metadata": {},
   "outputs": [],
   "source": [
    "import sys\n",
    "sys.path.append(\"../../..\")\n",
    "sys.path.append(\"../..\")\n",
    "from module import load_token_mapping\n",
    "from tqdm import tqdm\n",
    "import dgl\n",
    "import torch"
   ]
  },
  {
   "cell_type": "code",
   "execution_count": 2,
   "metadata": {},
   "outputs": [],
   "source": [
    "def isOneEditDistance(s: str, t: str) -> bool:\n",
    "    distance = len(s) - len(t)\n",
    "    if abs(distance) > 1:\n",
    "        return False\n",
    "    if not s or not t:\n",
    "        return s != t\n",
    "    \n",
    "    edit = 0\n",
    "    i,j = 0,0\n",
    "    while i < len(s) and j < len(t):\n",
    "        if s[i] == t[j]:\n",
    "            i += 1\n",
    "            j += 1\n",
    "        else:\n",
    "            if edit:\n",
    "                return False\n",
    "\n",
    "            if distance == 1: # 删除\n",
    "                i += 1\n",
    "            elif distance == -1:  # 插入\n",
    "                j += 1\n",
    "            else:   # 替换\n",
    "                i += 1\n",
    "                j += 1 \n",
    "            edit += 1\n",
    "    if i < len(s):\n",
    "        return edit == 0\n",
    "    if j < len(t):\n",
    "        return edit == 0\n",
    "    return i == len(s) and j == len(t) and edit == 1"
   ]
  },
  {
   "cell_type": "code",
   "execution_count": 5,
   "metadata": {},
   "outputs": [],
   "source": [
    "i2q, q2i  = load_token_mapping('queries')"
   ]
  },
  {
   "cell_type": "code",
   "execution_count": 7,
   "metadata": {},
   "outputs": [
    {
     "name": "stderr",
     "output_type": "stream",
     "text": [
      "100%|██████████| 10/10 [00:01<00:00,  9.11it/s]\n"
     ]
    }
   ],
   "source": [
    "with open('one_edit.graph', 'w') as f:\n",
    "    # for i in tqdm(range(len(i2q))):\n",
    "    for i in tqdm(range(10)):\n",
    "        for j in range(i + 1, len(i2q)):\n",
    "            if isOneEditDistance(i2q[i], i2q[j]):\n",
    "                f.write(f'{i2q[i]}\\t{i2q[j]}\\n')"
   ]
  },
  {
   "cell_type": "code",
   "execution_count": 8,
   "metadata": {},
   "outputs": [],
   "source": [
    "#####build query-spu graph############\n",
    "i2q, q2i  = load_token_mapping('queries')\n",
    "i2s, s2i = load_token_mapping('spus')\n",
    "s2i = {k: v + len(i2q) for k, v in s2i.items()}\n",
    "src, dst = [], []\n",
    "with open('new_train', 'r') as f:\n",
    "    for line in f:\n",
    "        query, spu, label = line.strip().split('\\t')\n",
    "        query = query.strip()\n",
    "        spu = spu.strip()\n",
    "        label = int(label)\n",
    "        if label == 1:\n",
    "            src.append(q2i[query])\n",
    "            dst.append(s2i[spu])\n",
    "g = dgl.graph((src, dst), num_nodes=len(i2q)+len(i2s))\n",
    "g = dgl.to_bidirected(g)\n",
    "g = dgl.add_self_loop(g)\n",
    "dgl.save_graphs('q_s_train.graph', [g])\n"
   ]
  },
  {
   "cell_type": "code",
   "execution_count": 3,
   "metadata": {},
   "outputs": [],
   "source": [
    "g, _ = dgl.load_graphs('q_s_train.graph')\n",
    "g = g[0]"
   ]
  },
  {
   "cell_type": "code",
   "execution_count": 3,
   "metadata": {},
   "outputs": [
    {
     "data": {
      "text/plain": [
       "1896833"
      ]
     },
     "execution_count": 3,
     "metadata": {},
     "output_type": "execute_result"
    }
   ],
   "source": [
    "g.num_nodes()"
   ]
  },
  {
   "cell_type": "code",
   "execution_count": 8,
   "metadata": {},
   "outputs": [
    {
     "data": {
      "text/plain": [
       "(tensor([      1,       2,       3,  ..., 1896830, 1896831, 1896832]),\n",
       " tensor([1450546,  364874, 1612367,  ..., 1896830, 1896831, 1896832]))"
      ]
     },
     "execution_count": 8,
     "metadata": {},
     "output_type": "execute_result"
    }
   ],
   "source": [
    "g.edges()"
   ]
  },
  {
   "cell_type": "code",
   "execution_count": 9,
   "metadata": {},
   "outputs": [
    {
     "data": {
      "text/plain": [
       "tensor([0, 1])"
      ]
     },
     "execution_count": 9,
     "metadata": {},
     "output_type": "execute_result"
    }
   ],
   "source": [
    "g.edge_ids([1, 2], [1450546,  364874])"
   ]
  },
  {
   "cell_type": "code",
   "execution_count": 5,
   "metadata": {},
   "outputs": [],
   "source": [
    "sampler = dgl.dataloading.as_edge_prediction_sampler(dgl.dataloading.NeighborSampler(fanouts=[2]))"
   ]
  },
  {
   "cell_type": "code",
   "execution_count": 6,
   "metadata": {},
   "outputs": [],
   "source": [
    "_, _, blocks = sampler.sample(g, [0])"
   ]
  },
  {
   "cell_type": "code",
   "execution_count": 8,
   "metadata": {},
   "outputs": [
    {
     "data": {
      "text/plain": [
       "tensor([      1, 1450546])"
      ]
     },
     "execution_count": 8,
     "metadata": {},
     "output_type": "execute_result"
    }
   ],
   "source": [
    "blocks[-1].dstdata[dgl.NID]"
   ]
  },
  {
   "cell_type": "code",
   "execution_count": 20,
   "metadata": {},
   "outputs": [
    {
     "data": {
      "text/plain": [
       "(tensor([0, 0, 1, 2]), tensor([0, 1, 2, 0]), tensor([0, 1, 2, 3]))"
      ]
     },
     "execution_count": 20,
     "metadata": {},
     "output_type": "execute_result"
    }
   ],
   "source": [
    "g.edges(form='all')"
   ]
  },
  {
   "cell_type": "code",
   "execution_count": 18,
   "metadata": {},
   "outputs": [
    {
     "data": {
      "text/plain": [
       "(tensor([0, 0, 1, 2, 1, 2, 0]),\n",
       " tensor([0, 1, 2, 0, 0, 1, 2]),\n",
       " tensor([0, 1, 2, 3, 4, 5, 6]))"
      ]
     },
     "execution_count": 18,
     "metadata": {},
     "output_type": "execute_result"
    }
   ],
   "source": [
    "bg1.edges(form='all')"
   ]
  },
  {
   "attachments": {},
   "cell_type": "markdown",
   "metadata": {},
   "source": [
    "# 构建s2s图"
   ]
  },
  {
   "cell_type": "code",
   "execution_count": 19,
   "metadata": {},
   "outputs": [],
   "source": [
    "from dgl import save_graphs, load_graphs\n",
    "import dgl\n",
    "import torch"
   ]
  },
  {
   "cell_type": "code",
   "execution_count": 2,
   "metadata": {},
   "outputs": [],
   "source": [
    "pos_neg_graph, _ = load_graphs('pos_neg_train.graph')\n",
    "pos_neg_graph = pos_neg_graph[0]"
   ]
  },
  {
   "cell_type": "code",
   "execution_count": 3,
   "metadata": {},
   "outputs": [],
   "source": [
    "pos_g = pos_neg_graph['pos']"
   ]
  },
  {
   "cell_type": "code",
   "execution_count": 13,
   "metadata": {},
   "outputs": [
    {
     "data": {
      "text/plain": [
       "Graph(num_nodes={'query': 218758, 'spu': 1678075},\n",
       "      num_edges={('query', 'pos', 'spu'): 1151352},\n",
       "      metagraph=[('query', 'spu', 'pos')])"
      ]
     },
     "execution_count": 13,
     "metadata": {},
     "output_type": "execute_result"
    }
   ],
   "source": [
    "pos_g"
   ]
  },
  {
   "cell_type": "code",
   "execution_count": 14,
   "metadata": {},
   "outputs": [
    {
     "data": {
      "text/plain": [
       "tensor(0)"
      ]
     },
     "execution_count": 14,
     "metadata": {},
     "output_type": "execute_result"
    }
   ],
   "source": [
    "min(pos_g.edges()[1])"
   ]
  },
  {
   "cell_type": "code",
   "execution_count": 6,
   "metadata": {},
   "outputs": [],
   "source": [
    "g = dgl.heterograph({\n",
    "   ('query', 'q2s', 'spu'): (pos_g.edges()[0], pos_g.edges()[1]),\n",
    "   ('spu', 's2q', 'query'): (pos_g.edges()[1], pos_g.edges()[0])\n",
    "})"
   ]
  },
  {
   "cell_type": "code",
   "execution_count": 12,
   "metadata": {},
   "outputs": [],
   "source": [
    "new_g = dgl.metapath_reachable_graph(g, ['s2q', 'q2s'])"
   ]
  },
  {
   "cell_type": "code",
   "execution_count": 15,
   "metadata": {},
   "outputs": [
    {
     "data": {
      "text/plain": [
       "Graph(num_nodes=1678075, num_edges=779348868,\n",
       "      ndata_schemes={}\n",
       "      edata_schemes={})"
      ]
     },
     "execution_count": 15,
     "metadata": {},
     "output_type": "execute_result"
    }
   ],
   "source": [
    "new_g"
   ]
  },
  {
   "cell_type": "code",
   "execution_count": 16,
   "metadata": {},
   "outputs": [],
   "source": [
    "new_g = dgl.remove_self_loop(new_g)\n",
    "new_g = dgl.add_self_loop(new_g)\n",
    "new_g = dgl.to_homogeneous(new_g)"
   ]
  },
  {
   "cell_type": "code",
   "execution_count": 17,
   "metadata": {},
   "outputs": [],
   "source": [
    "save_graphs('train_s2s.graph', [new_g], None)"
   ]
  },
  {
   "cell_type": "code",
   "execution_count": 21,
   "metadata": {},
   "outputs": [
    {
     "data": {
      "text/plain": [
       "tensor(464.8886)"
      ]
     },
     "execution_count": 21,
     "metadata": {},
     "output_type": "execute_result"
    }
   ],
   "source": [
    "torch.mean(new_g.in_degrees().float())"
   ]
  }
 ],
 "metadata": {
  "kernelspec": {
   "display_name": "torch",
   "language": "python",
   "name": "python3"
  },
  "language_info": {
   "codemirror_mode": {
    "name": "ipython",
    "version": 3
   },
   "file_extension": ".py",
   "mimetype": "text/x-python",
   "name": "python",
   "nbconvert_exporter": "python",
   "pygments_lexer": "ipython3",
   "version": "3.8.13"
  },
  "orig_nbformat": 4,
  "vscode": {
   "interpreter": {
    "hash": "98707c2b74a34f5cc9cb0e19616678f819df375e49295e22f473a085ccb081d6"
   }
  }
 },
 "nbformat": 4,
 "nbformat_minor": 2
}

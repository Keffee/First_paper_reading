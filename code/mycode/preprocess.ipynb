{
 "cells": [
  {
   "cell_type": "code",
   "execution_count": 1,
   "metadata": {},
   "outputs": [
    {
     "name": "stderr",
     "output_type": "stream",
     "text": [
      "Using backend: pytorch\n"
     ]
    }
   ],
   "source": [
    "from module.data import BertData"
   ]
  },
  {
   "cell_type": "code",
   "execution_count": 3,
   "metadata": {},
   "outputs": [],
   "source": [
    "train_data = BertData('data/mt_new/new_train')"
   ]
  },
  {
   "cell_type": "code",
   "execution_count": 6,
   "metadata": {},
   "outputs": [],
   "source": [
    "train_q = set(train_data.query)"
   ]
  },
  {
   "cell_type": "code",
   "execution_count": 7,
   "metadata": {},
   "outputs": [],
   "source": [
    "with open('data/mt_new/new_test', 'r') as test_f, open('data/mt_new/test_not_in_train', 'w') as f1, open('data/mt_new/test_in_train', 'w') as f2:\n",
    "    for line in test_f:\n",
    "        if line == '\\n':\n",
    "            continue\n",
    "        query, sup, label = line.strip().split('\\t')\n",
    "        query = query.strip()\n",
    "        if query in train_q:\n",
    "            f2.write(line)\n",
    "        else:\n",
    "            f1.write(line)\n"
   ]
  },
  {
   "cell_type": "code",
   "execution_count": null,
   "metadata": {},
   "outputs": [],
   "source": []
  }
 ],
 "metadata": {
  "kernelspec": {
   "display_name": "Python 3.8.13 ('torch')",
   "language": "python",
   "name": "python3"
  },
  "language_info": {
   "codemirror_mode": {
    "name": "ipython",
    "version": 3
   },
   "file_extension": ".py",
   "mimetype": "text/x-python",
   "name": "python",
   "nbconvert_exporter": "python",
   "pygments_lexer": "ipython3",
   "version": "3.8.13 (default, Mar 28 2022, 11:38:47) \n[GCC 7.5.0]"
  },
  "orig_nbformat": 4,
  "vscode": {
   "interpreter": {
    "hash": "98707c2b74a34f5cc9cb0e19616678f819df375e49295e22f473a085ccb081d6"
   }
  }
 },
 "nbformat": 4,
 "nbformat_minor": 2
}
